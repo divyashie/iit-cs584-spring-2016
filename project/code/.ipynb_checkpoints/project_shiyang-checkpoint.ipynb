{
 "cells": [
  {
   "cell_type": "code",
   "execution_count": null,
   "metadata": {
    "collapsed": true
   },
   "outputs": [],
   "source": [
    "import numpy as np\n",
    "import glob\n",
    "from sklearn.svm import SVC\n",
    "from sklearn.cross_validation import KFold\n",
    "from sklearn.preprocessing import scale\n",
    "np.set_printoptions(threshold='nan')"
   ]
  },
  {
   "cell_type": "markdown",
   "metadata": {},
   "source": [
    "## Prepare data"
   ]
  },
  {
   "cell_type": "code",
   "execution_count": null,
   "metadata": {
    "collapsed": false
   },
   "outputs": [],
   "source": [
    "verbose=True\n",
    "\n",
    "data_files = glob.glob('../data/*.txt')\n",
    "data = np.array([])\n",
    "\n",
    "if verbose:\n",
    "    print type(data)\n",
    "\n",
    "for data_file in data_files:\n",
    "    data = np.hstack((data,np.loadtxt(data_file, dtype = str)))\n",
    "\n",
    "if verbose:\n",
    "    print len(data)\n",
    "\n",
    "features = ['kills', 'deaths', 'assists', 'last_hits', 'denies',\\\n",
    "            'gold_per_min', 'xp_per_min',\\\n",
    "            'hero_damage', 'tower_damage',\\\n",
    "            'radiant_win']\n",
    "\n",
    "feature_num = 91\n",
    "\n",
    "data_int = []\n",
    "\n",
    "for i in data:\n",
    "    if i == 'true':\n",
    "        data_int.append(1)\n",
    "    elif i == 'false':\n",
    "        data_int.append(-1)\n",
    "    else: \n",
    "        data_int.append(int(i))\n",
    "\n",
    "data_array = np.asarray(data_int)\n",
    "data_size = data_array.shape[0]\n",
    "data_matrix = data_array.reshape((data_size/feature_num, feature_num))\n",
    "\n",
    "if verbose:\n",
    "    print data_matrix.shape\n",
    "#     print data_matrix[:,-1]\n",
    "\n",
    "X = data_matrix[:,0:-1]\n",
    "y = data_matrix[:,-1]\n",
    "\n",
    "Z = X\n",
    "rad_hero_damage_idx = [i for i in range(7,45,9)]\n",
    "dir_hero_damage_idx = [i for i in range(7+1,45,9)]\n",
    "rad_tower_damage_idx = [i for i in range(7+45,91,9)]\n",
    "dir_tower_damage_idx = [i for i in range(7+1+45,91,9)]\n",
    "\n",
    "sum_idxs = [rad_hero_damage_idx, dir_hero_damage_idx, rad_tower_damage_idx, dir_tower_damage_idx]\n",
    "\n",
    "for sum_idx in sum_idxs:\n",
    "    s = np.sum(X[:,sum_idx],axis=1)[:,np.newaxis]\n",
    "    Z = np.hstack((Z,s))\n",
    "    \n",
    "print Z.shape, type(Z), y.shape"
   ]
  },
  {
   "cell_type": "markdown",
   "metadata": {},
   "source": [
    "## Normalization"
   ]
  },
  {
   "cell_type": "code",
   "execution_count": null,
   "metadata": {
    "collapsed": true
   },
   "outputs": [],
   "source": []
  },
  {
   "cell_type": "code",
   "execution_count": null,
   "metadata": {
    "collapsed": false
   },
   "outputs": [],
   "source": [
    "Z_norm = scale(Z)\n",
    "print Z_norm.shape\n",
    "# Z_mean = np.mean(Z[0:2],axis = 0)\n",
    "# print Z[0:2]\n",
    "# print Z[0:2]/Z_mean"
   ]
  },
  {
   "cell_type": "markdown",
   "metadata": {},
   "source": [
    "## SVM"
   ]
  },
  {
   "cell_type": "code",
   "execution_count": null,
   "metadata": {
    "collapsed": false
   },
   "outputs": [],
   "source": [
    "k_fold = KFold(y.shape[0], n_folds=5)\n",
    "# print k_fold\n",
    "# for train_index, test_index in k_fold:\n",
    "#     print(\"TRAIN:\", train_index, \"TEST:\", test_index)\n",
    "svc = SVC(C=1.0, cache_size=200, class_weight=None, coef0=0.0,\n",
    "    decision_function_shape=None, degree=3, gamma='auto', kernel='linear',\n",
    "    max_iter=-1, probability=False, random_state=None, shrinking=True,\n",
    "    tol=0.001, verbose=False)\n",
    "\n",
    "# svc.fit(Z, y) \n",
    "# svc.score(Z, y)\n",
    "\n",
    "for k, (train_index, test_index) in enumerate(k_fold):\n",
    "    svc.fit(Z[train_index], y[train_index])\n",
    "    print svc.score(Z[test_index], y[test_index])"
   ]
  },
  {
   "cell_type": "code",
   "execution_count": null,
   "metadata": {
    "collapsed": false
   },
   "outputs": [],
   "source": [
    "clf = SVC()\n",
    "clf.fit(Z, y) \n",
    "SVC(C=1.0, cache_size=200, class_weight=None, coef0=0.0,\n",
    "    decision_function_shape=None, degree=3, gamma='auto', kernel='rbf',\n",
    "    max_iter=-1, probability=False, random_state=None, shrinking=True,\n",
    "    tol=0.001, verbose=False)\n",
    "clf.score(Z, y)\n",
    "# print(clf.predict([[-0.8, -1]]))"
   ]
  },
  {
   "cell_type": "code",
   "execution_count": null,
   "metadata": {
    "collapsed": true
   },
   "outputs": [],
   "source": []
  }
 ],
 "metadata": {
  "kernelspec": {
   "display_name": "Python 2",
   "language": "python",
   "name": "python2"
  },
  "language_info": {
   "codemirror_mode": {
    "name": "ipython",
    "version": 2
   },
   "file_extension": ".py",
   "mimetype": "text/x-python",
   "name": "python",
   "nbconvert_exporter": "python",
   "pygments_lexer": "ipython2",
   "version": "2.7.11"
  }
 },
 "nbformat": 4,
 "nbformat_minor": 0
}
