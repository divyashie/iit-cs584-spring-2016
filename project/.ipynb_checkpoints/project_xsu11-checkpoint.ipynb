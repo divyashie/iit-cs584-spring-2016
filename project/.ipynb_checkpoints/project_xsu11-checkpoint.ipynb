{
 "cells": [
  {
   "cell_type": "code",
   "execution_count": 1,
   "metadata": {
    "collapsed": true
   },
   "outputs": [],
   "source": [
    "# import\n",
    "%matplotlib inline\n",
    "import matplotlib.pyplot as plt\n",
    "from pylab import *\n",
    "import numpy as np\n",
    "import math"
   ]
  },
  {
   "cell_type": "code",
   "execution_count": 11,
   "metadata": {
    "collapsed": true
   },
   "outputs": [],
   "source": [
    "# K_Fold\n",
    "def K_Fold(n, n_folds=10, shuffle=False):\n",
    "    step = n // n_folds\n",
    "    remainder = n % n_folds\n",
    "    \n",
    "    # generate fold sizes\n",
    "    fold_sizes = (step) * np.ones(n_folds, dtype=np.int)\n",
    "    fold_sizes[:remainder] += 1\n",
    "    \n",
    "    train_idx = []\n",
    "    test_idx = []\n",
    "    \n",
    "    sequence = np.array(range(n))\n",
    "    if shuffle:\n",
    "        np.random.shuffle(sequence)\n",
    "        \n",
    "    cursor = 0\n",
    "    for fs in fold_sizes:\n",
    "        test_fold = sequence[cursor:cursor + fs]\n",
    "        test_idx.append(test_fold)\n",
    "        train_fold = np.delete(sequence, range(cursor, cursor + fs))\n",
    "        train_idx.append(train_fold)\n",
    "        cursor += fs\n",
    "    return train_idx, test_idx"
   ]
  },
  {
   "cell_type": "code",
   "execution_count": 12,
   "metadata": {
    "collapsed": true
   },
   "outputs": [],
   "source": [
    "class decision_node:\n",
    "    def __init__(self, feature_idx=-1., threshold=-1., result=0., left_node=None, right_node=None):\n",
    "        self.feature_idx=feature_idx # feature index of criteria being tested\n",
    "        self.threshold=threshold # threshold necessary to get a true result\n",
    "        self.result=result # dict of results for a branch, None for everything except endpoints\n",
    "        self.left_node=left_node # left decision nodes (<=)\n",
    "        self.right_node=right_node # false decision nodes {>}"
   ]
  },
  {
   "cell_type": "code",
   "execution_count": 13,
   "metadata": {
    "collapsed": true
   },
   "outputs": [],
   "source": [
    "def calculate_threshold(X, y):\n",
    "    threshold = np.zeros([X.shape[1], 1])\n",
    "    for i in range(X.shape[1]):\n",
    "        # sort\n",
    "        Xi_s = np.sort(X[:, i], axis=1)\n",
    "        \n",
    "        # for every two ajacent values, generate a threshold to calculate classification error\n",
    "        th = np.zeros([Xi_s.shape[0] - 1, 1])\n",
    "        for j in range(Xi_s.shape[0] - 1):\n",
    "            th[j] = (Xi_s[j] + Xi_s[j + 1]) / 2.\n",
    "        \n",
    "        cls_error = classification_error(X, y, th)\n",
    "        threshold[i] = th[np.argmin(cls_error, axis=0)]\n",
    "        \n",
    "    return threshold"
   ]
  },
  {
   "cell_type": "code",
   "execution_count": 14,
   "metadata": {
    "collapsed": true
   },
   "outputs": [],
   "source": [
    "def fit(X, y, min_amt=5, max_depth=10):\n",
    "    threshold = calculate_threshold(X, y)\n",
    "    feature_list = range(X.shape[1])\n",
    "    root = decision_tree(X, y, 0, feature_list, threshold)\n",
    "    return root"
   ]
  },
  {
   "cell_type": "code",
   "execution_count": 15,
   "metadata": {
    "collapsed": true
   },
   "outputs": [],
   "source": [
    "def decision_tree(X, y, depth, feature_list, threshold, min_amt=5, max_depth=10):\n",
    "    # bottom up condition\n",
    "    # TO DO\n",
    "    if depth == max_depth or y.shape[0] <= min_amt:\n",
    "        if y[y <= 0].shape[0] > y[y > 0].shape[0]:\n",
    "            leaf = decision_node(result=-1.)\n",
    "            return leaf\n",
    "        \n",
    "        leaf = decision_node(result=1.)\n",
    "        return leaf\n",
    "    elif np.unique(y).shape[0] == 1:\n",
    "        return decision_node(result=np.unique(y))\n",
    "    elif len(feature_list) == 1:\n",
    "        left_node = decision_tree(result=-1.)\n",
    "        right_node = decision_tree(result=1.)\n",
    "        root = decision_node(feature_idx=feature_list[0], threshold=threshold[feature_list[0]], \\\n",
    "                         left_node=left_node, right_node=right_node)\n",
    "        return root\n",
    "    \n",
    "    # 0. calculate threshold\n",
    "    # threshold = cal_threshold(X, y)\n",
    "\n",
    "    # calculate classification error\n",
    "    cls_error = classification_error(X, y, feature_list, threshold)\n",
    "    \n",
    "    feature_idx = np.argmin(cls_error, axis=0)\n",
    "    remain_feature_list = list(feature_list.remove(feature_idx))\n",
    "    \n",
    "    # 2. create left tree\n",
    "    left_node = decision_tree(X[X[:, feature_idx] <= threshold[feature_idx]], \\\n",
    "                              y[X[:, feature_idx] <= threshold[feature_idx]], \\\n",
    "                              depth + 1, remain_feature_list, threshold)\n",
    "    \n",
    "    # 3. create right tree\n",
    "    right_node = decision_tree(X[X[:, feature_idx] > threshold[feature_idx]], \\\n",
    "                               y[X[:, feature_idx] > threshold[feature_idx]], \\\n",
    "                               depth + 1, remain_feature_list, threshold)\n",
    "    \n",
    "    if left_node.result != 0. and right_node.result != 0. and left_node.result == right_node.result:\n",
    "        # left node and right node are both leaf nodes and have the same result,\n",
    "        # these two can be combined to one leaf node with that result\n",
    "        leaf = decision_node(result=left_node.result)\n",
    "    \n",
    "    # 4. create root node\n",
    "    root = decision_node(feature_idx=feature_idx, threshold=threshold[feature_idx], \\\n",
    "                         left_node=left_node, right_node=right_node)\n",
    "    \n",
    "    return root"
   ]
  },
  {
   "cell_type": "code",
   "execution_count": 16,
   "metadata": {
    "collapsed": true
   },
   "outputs": [],
   "source": [
    "def classification_error(X, y, feature_list, threshold):\n",
    "    th = threshold[feature_list]\n",
    "    X_s = X[feature_list]\n",
    "    \n",
    "    cls_error = np.zeros([th.shape[0], 1])\n",
    "    \n",
    "    for i in range(th.shape[0]):\n",
    "        y_l = y[X_s[:, i] <= th[i]]\n",
    "        y_r = y[X_s[:, i] > th[i]]\n",
    "        \n",
    "        # calculate the classification error\n",
    "        error_l = min(y_l[y_l <= 0].shape[0], y_l[y_l > 0].shape[0])\n",
    "        error_r = min(y_r[y_r <= 0].shape[0], y_r[y_r > 0].shape[0])\n",
    "        \n",
    "        cls_error[i] = (error_l + error_r) / y.shape[0]\n",
    "        \n",
    "    return cls_error"
   ]
  },
  {
   "cell_type": "code",
   "execution_count": 17,
   "metadata": {
    "collapsed": true
   },
   "outputs": [],
   "source": [
    "def predict(X, root):\n",
    "    # bottom up condition: root is a leaf\n",
    "    if root.result != 0.:\n",
    "        return root.result\n",
    "    \n",
    "    # go into left node if <= threshold\n",
    "    if X[:, root.feature_idx] <= root.threshold:\n",
    "        return predict(X, root.left_node)\n",
    "\n",
    "    return predict(X, root.right_node)"
   ]
  },
  {
   "cell_type": "code",
   "execution_count": 18,
   "metadata": {
    "collapsed": true
   },
   "outputs": [],
   "source": [
    "def score(X, y):\n",
    "    c_matrix = np.zeros((2, 2))\n",
    "    for j in range(X.shape[0]):\n",
    "        c_matrix[int(X[j])][int(y[j])] += 1\n",
    "    \n",
    "    accuracy = 1. * np.sum(c_matrix[i][i] for i in range(c_matrix.shape[0])) / np.sum(c_matrix)\n",
    "    return c_matrix, accuracy"
   ]
  },
  {
   "cell_type": "code",
   "execution_count": 19,
   "metadata": {
    "collapsed": true
   },
   "outputs": [],
   "source": [
    "# cross validation\n",
    "def cross_validation(X, y, min_amt=5, max_depth=10, n_folds=5, r_verbose=False):\n",
    "    train_c_matrix = []\n",
    "    train_accuracy = []\n",
    "    \n",
    "    test_c_matrix = []\n",
    "    test_accuracy = []\n",
    "    \n",
    "    train_idx, test_idx = K_Fold(y.shape[0], n_folds=n_folds, shuffle=True)\n",
    "    \n",
    "    for i in range(n_folds):\n",
    "        # fit\n",
    "        root = fit(X, y, min_amt=min_amt, max_depth=max_depth)\n",
    "        \n",
    "        # training error\n",
    "        train_predicted = predict(X[train_idx[i]], root)\n",
    "        tr_c_matrix, tr_accuracy = score(train_predicted, y[train_idx[i]])\n",
    "\n",
    "        # test error\n",
    "        test_predicted = predict(X[test_idx[i]], root)\n",
    "        t_c_matrix, t_accuracy = score(test_predicted, y[test_idx[i]])\n",
    "        \n",
    "        train_c_matrix.append(tr_c_matrix)\n",
    "        train_accuracy.append(tr_accuracy)\n",
    "        \n",
    "        test_c_matrix.append(t_c_matrix)\n",
    "        test_accuracy.append(t_accuracy)\n",
    "        \n",
    "    # average error\n",
    "    train_accuracy_avg = np.mean(train_accuracy)\n",
    "    \n",
    "    test_accuracy_avg = np.mean(test_accuracy)\n",
    "\n",
    "    if r_verbose:\n",
    "        print '(average results) CROSS_VALIDATION (degree = %d) (k = %d) (n_folds = %d):' % (degree, k, n_folds)\n",
    "        print 'train_c_matrix, train_accuracy_avg'\n",
    "        for i in range(len(train_c_matrix)):\n",
    "            print train_c_matrix[i]\n",
    "        print train_accuracy_avg\n",
    "        print '\\n'\n",
    "        print 'test_c_matrix, test_accuracy_avg'\n",
    "        for i in range(len(test_c_matrix)):\n",
    "            print test_c_matrix[i]\n",
    "        print test_accuracy_avg\n",
    "        print '\\n'"
   ]
  },
  {
   "cell_type": "code",
   "execution_count": null,
   "metadata": {
    "collapsed": true
   },
   "outputs": [],
   "source": [
    "# read file\n",
    "\n",
    "# parameters\n",
    "min_amt = 5\n",
    "max_depth = 10\n",
    "n_folds = 5\n",
    "r_verbose = True\n",
    "\n",
    "# start timing\n",
    "start = time.time()\n",
    "\n",
    "# cross validation\n",
    "cross_validation(X, y, min_amt=min_amt, max_depth=max_depth, n_folds=n_folds, r_verbose=r_verbose)\n",
    "\n",
    "# stop timing\n",
    "stop = time.time()\n",
    "duration = stop - start\n",
    "\n",
    "print 'duration =', duration"
   ]
  },
  {
   "cell_type": "code",
   "execution_count": null,
   "metadata": {
    "collapsed": true
   },
   "outputs": [],
   "source": [
    "# random forest\n",
    "def random_forest(X, y, depth, threshold, min_amt=5, max_depth=10):\n",
    "    forest = []\n",
    "    \n",
    "    \n",
    "    return forest"
   ]
  }
 ],
 "metadata": {
  "kernelspec": {
   "display_name": "Python 2",
   "language": "python",
   "name": "python2"
  },
  "language_info": {
   "codemirror_mode": {
    "name": "ipython",
    "version": 2
   },
   "file_extension": ".py",
   "mimetype": "text/x-python",
   "name": "python",
   "nbconvert_exporter": "python",
   "pygments_lexer": "ipython2",
   "version": "2.7.11"
  }
 },
 "nbformat": 4,
 "nbformat_minor": 0
}
